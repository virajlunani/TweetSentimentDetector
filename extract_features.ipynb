{
 "cells": [
  {
   "cell_type": "code",
   "execution_count": 1,
   "metadata": {},
   "outputs": [],
   "source": [
    "%load_ext autoreload\n",
    "%autoreload 2"
   ]
  },
  {
   "cell_type": "code",
   "execution_count": 34,
   "metadata": {},
   "outputs": [],
   "source": [
    "import pandas as pd\n",
    "from extract_feats import *\n",
    "from hydrate_tweets import *"
   ]
  },
  {
   "cell_type": "code",
   "execution_count": 3,
   "metadata": {},
   "outputs": [
    {
     "data": {
      "text/html": [
       "<div>\n",
       "<style scoped>\n",
       "    .dataframe tbody tr th:only-of-type {\n",
       "        vertical-align: middle;\n",
       "    }\n",
       "\n",
       "    .dataframe tbody tr th {\n",
       "        vertical-align: top;\n",
       "    }\n",
       "\n",
       "    .dataframe thead th {\n",
       "        text-align: right;\n",
       "    }\n",
       "</style>\n",
       "<table border=\"1\" class=\"dataframe\">\n",
       "  <thead>\n",
       "    <tr style=\"text-align: right;\">\n",
       "      <th></th>\n",
       "      <th>text</th>\n",
       "      <th>label</th>\n",
       "    </tr>\n",
       "  </thead>\n",
       "  <tbody>\n",
       "    <tr>\n",
       "      <th>0</th>\n",
       "      <td>i didnt feel humiliated</td>\n",
       "      <td>0</td>\n",
       "    </tr>\n",
       "    <tr>\n",
       "      <th>1</th>\n",
       "      <td>i can go from feeling so hopeless to so damned...</td>\n",
       "      <td>0</td>\n",
       "    </tr>\n",
       "    <tr>\n",
       "      <th>2</th>\n",
       "      <td>im grabbing a minute to post i feel greedy wrong</td>\n",
       "      <td>3</td>\n",
       "    </tr>\n",
       "    <tr>\n",
       "      <th>3</th>\n",
       "      <td>i am ever feeling nostalgic about the fireplac...</td>\n",
       "      <td>2</td>\n",
       "    </tr>\n",
       "    <tr>\n",
       "      <th>4</th>\n",
       "      <td>i am feeling grouchy</td>\n",
       "      <td>3</td>\n",
       "    </tr>\n",
       "    <tr>\n",
       "      <th>...</th>\n",
       "      <td>...</td>\n",
       "      <td>...</td>\n",
       "    </tr>\n",
       "    <tr>\n",
       "      <th>15995</th>\n",
       "      <td>i just had a very brief time in the beanbag an...</td>\n",
       "      <td>0</td>\n",
       "    </tr>\n",
       "    <tr>\n",
       "      <th>15996</th>\n",
       "      <td>i am now turning and i feel pathetic that i am...</td>\n",
       "      <td>0</td>\n",
       "    </tr>\n",
       "    <tr>\n",
       "      <th>15997</th>\n",
       "      <td>i feel strong and good overall</td>\n",
       "      <td>1</td>\n",
       "    </tr>\n",
       "    <tr>\n",
       "      <th>15998</th>\n",
       "      <td>i feel like this was such a rude comment and i...</td>\n",
       "      <td>3</td>\n",
       "    </tr>\n",
       "    <tr>\n",
       "      <th>15999</th>\n",
       "      <td>i know a lot but i feel so stupid because i ca...</td>\n",
       "      <td>0</td>\n",
       "    </tr>\n",
       "  </tbody>\n",
       "</table>\n",
       "<p>16000 rows × 2 columns</p>\n",
       "</div>"
      ],
      "text/plain": [
       "                                                    text  label\n",
       "0                                i didnt feel humiliated      0\n",
       "1      i can go from feeling so hopeless to so damned...      0\n",
       "2       im grabbing a minute to post i feel greedy wrong      3\n",
       "3      i am ever feeling nostalgic about the fireplac...      2\n",
       "4                                   i am feeling grouchy      3\n",
       "...                                                  ...    ...\n",
       "15995  i just had a very brief time in the beanbag an...      0\n",
       "15996  i am now turning and i feel pathetic that i am...      0\n",
       "15997                     i feel strong and good overall      1\n",
       "15998  i feel like this was such a rude comment and i...      3\n",
       "15999  i know a lot but i feel so stupid because i ca...      0\n",
       "\n",
       "[16000 rows x 2 columns]"
      ]
     },
     "execution_count": 3,
     "metadata": {},
     "output_type": "execute_result"
    }
   ],
   "source": [
    "df = pd.read_csv('data/training.csv')\n",
    "df"
   ]
  },
  {
   "cell_type": "code",
   "execution_count": 4,
   "metadata": {},
   "outputs": [],
   "source": [
    "label_mapping = {0: 'sadness', 1: 'joy', 2: 'love', 3: 'anger', 4: 'fear'}"
   ]
  },
  {
   "cell_type": "code",
   "execution_count": 5,
   "metadata": {},
   "outputs": [
    {
     "data": {
      "text/plain": [
       "\"\\nfeatures = {'anger': 0, 'anticipation': 1, 'disgust': 2, 'fear': 3, 'joy': 4, 'sadness': 5,\\n            'surprise': 6, 'trust': 7, 'negative': 8, 'positive': 9, 'CC': 10, 'IN': 11, 'JJR': 12,\\n            'JJS': 13, 'PRP': 14, '!': 15, '?': 16}\\nnrc_pos_feats = extract_nrc_pos_feats(df, features)\\nnrc_pos_feats\\n\""
      ]
     },
     "execution_count": 5,
     "metadata": {},
     "output_type": "execute_result"
    }
   ],
   "source": [
    "'''\n",
    "features = {'anger': 0, 'anticipation': 1, 'disgust': 2, 'fear': 3, 'joy': 4, 'sadness': 5,\n",
    "            'surprise': 6, 'trust': 7, 'negative': 8, 'positive': 9, 'CC': 10, 'IN': 11, 'JJR': 12,\n",
    "            'JJS': 13, 'PRP': 14, '!': 15, '?': 16}\n",
    "nrc_pos_feats = extract_nrc_pos_feats(df, features)\n",
    "nrc_pos_feats\n",
    "'''"
   ]
  },
  {
   "cell_type": "code",
   "execution_count": 6,
   "metadata": {},
   "outputs": [
    {
     "data": {
      "text/html": [
       "<div>\n",
       "<style scoped>\n",
       "    .dataframe tbody tr th:only-of-type {\n",
       "        vertical-align: middle;\n",
       "    }\n",
       "\n",
       "    .dataframe tbody tr th {\n",
       "        vertical-align: top;\n",
       "    }\n",
       "\n",
       "    .dataframe thead th {\n",
       "        text-align: right;\n",
       "    }\n",
       "</style>\n",
       "<table border=\"1\" class=\"dataframe\">\n",
       "  <thead>\n",
       "    <tr style=\"text-align: right;\">\n",
       "      <th></th>\n",
       "      <th>text</th>\n",
       "      <th>label</th>\n",
       "    </tr>\n",
       "  </thead>\n",
       "  <tbody>\n",
       "    <tr>\n",
       "      <th>0</th>\n",
       "      <td>didnt feel humili</td>\n",
       "      <td>0</td>\n",
       "    </tr>\n",
       "    <tr>\n",
       "      <th>1</th>\n",
       "      <td>go feel hopeless damn hope around someon care ...</td>\n",
       "      <td>0</td>\n",
       "    </tr>\n",
       "    <tr>\n",
       "      <th>2</th>\n",
       "      <td>im grab minut post feel greedi wrong</td>\n",
       "      <td>3</td>\n",
       "    </tr>\n",
       "    <tr>\n",
       "      <th>3</th>\n",
       "      <td>ever feel nostalg fireplac know still properti</td>\n",
       "      <td>2</td>\n",
       "    </tr>\n",
       "    <tr>\n",
       "      <th>4</th>\n",
       "      <td>feel grouchi</td>\n",
       "      <td>3</td>\n",
       "    </tr>\n",
       "    <tr>\n",
       "      <th>...</th>\n",
       "      <td>...</td>\n",
       "      <td>...</td>\n",
       "    </tr>\n",
       "    <tr>\n",
       "      <th>15995</th>\n",
       "      <td>veri brief time beanbag said anna feel like be...</td>\n",
       "      <td>0</td>\n",
       "    </tr>\n",
       "    <tr>\n",
       "      <th>15996</th>\n",
       "      <td>turn feel pathet still wait tabl sub teach degre</td>\n",
       "      <td>0</td>\n",
       "    </tr>\n",
       "    <tr>\n",
       "      <th>15997</th>\n",
       "      <td>feel strong good overal</td>\n",
       "      <td>1</td>\n",
       "    </tr>\n",
       "    <tr>\n",
       "      <th>15998</th>\n",
       "      <td>feel like thi wa rude comment im glad</td>\n",
       "      <td>3</td>\n",
       "    </tr>\n",
       "    <tr>\n",
       "      <th>15999</th>\n",
       "      <td>know lot feel stupid becaus portray</td>\n",
       "      <td>0</td>\n",
       "    </tr>\n",
       "  </tbody>\n",
       "</table>\n",
       "<p>16000 rows × 2 columns</p>\n",
       "</div>"
      ],
      "text/plain": [
       "                                                    text  label\n",
       "0                                      didnt feel humili      0\n",
       "1      go feel hopeless damn hope around someon care ...      0\n",
       "2                   im grab minut post feel greedi wrong      3\n",
       "3         ever feel nostalg fireplac know still properti      2\n",
       "4                                           feel grouchi      3\n",
       "...                                                  ...    ...\n",
       "15995  veri brief time beanbag said anna feel like be...      0\n",
       "15996   turn feel pathet still wait tabl sub teach degre      0\n",
       "15997                            feel strong good overal      1\n",
       "15998              feel like thi wa rude comment im glad      3\n",
       "15999                know lot feel stupid becaus portray      0\n",
       "\n",
       "[16000 rows x 2 columns]"
      ]
     },
     "execution_count": 6,
     "metadata": {},
     "output_type": "execute_result"
    }
   ],
   "source": [
    "cleaned_data = cleanData(df)\n",
    "cleaned_data"
   ]
  },
  {
   "cell_type": "code",
   "execution_count": 7,
   "metadata": {},
   "outputs": [],
   "source": [
    "X, y, vectorizer = createBoWFeatureVec(cleaned_data)"
   ]
  },
  {
   "cell_type": "code",
   "execution_count": 8,
   "metadata": {},
   "outputs": [
    {
     "data": {
      "text/plain": [
       "(array([[0, 0, 0, ..., 0, 0, 0],\n",
       "        [0, 0, 0, ..., 0, 0, 0],\n",
       "        [0, 0, 0, ..., 0, 0, 0],\n",
       "        ...,\n",
       "        [0, 0, 0, ..., 0, 0, 0],\n",
       "        [0, 0, 0, ..., 0, 0, 0],\n",
       "        [0, 0, 0, ..., 0, 0, 0]]),\n",
       " array([0, 0, 3, ..., 1, 3, 0]))"
      ]
     },
     "execution_count": 8,
     "metadata": {},
     "output_type": "execute_result"
    }
   ],
   "source": [
    "X, y"
   ]
  },
  {
   "cell_type": "code",
   "execution_count": 9,
   "metadata": {},
   "outputs": [],
   "source": [
    "X2, y, vectorizer2 = createTfIdfFeatureVec(cleaned_data)"
   ]
  },
  {
   "cell_type": "code",
   "execution_count": 10,
   "metadata": {},
   "outputs": [
    {
     "data": {
      "text/plain": [
       "(array([[0., 0., 0., ..., 0., 0., 0.],\n",
       "        [0., 0., 0., ..., 0., 0., 0.],\n",
       "        [0., 0., 0., ..., 0., 0., 0.],\n",
       "        ...,\n",
       "        [0., 0., 0., ..., 0., 0., 0.],\n",
       "        [0., 0., 0., ..., 0., 0., 0.],\n",
       "        [0., 0., 0., ..., 0., 0., 0.]]),\n",
       " array([0, 0, 3, ..., 1, 3, 0]))"
      ]
     },
     "execution_count": 10,
     "metadata": {},
     "output_type": "execute_result"
    }
   ],
   "source": [
    "X2, y"
   ]
  },
  {
   "cell_type": "code",
   "execution_count": 11,
   "metadata": {},
   "outputs": [
    {
     "ename": "KeyboardInterrupt",
     "evalue": "",
     "output_type": "error",
     "traceback": [
      "\u001b[0;31m---------------------------------------------------------------------------\u001b[0m",
      "\u001b[0;31mKeyboardInterrupt\u001b[0m                         Traceback (most recent call last)",
      "\u001b[1;32m/home/dorayguo/eecs498/TweetSentimentDetector/extract_features.ipynb Cell 11'\u001b[0m in \u001b[0;36m<cell line: 1>\u001b[0;34m()\u001b[0m\n\u001b[0;32m----> <a href='vscode-notebook-cell://wsl%2Bubuntu-20.04/home/dorayguo/eecs498/TweetSentimentDetector/extract_features.ipynb#ch0000010vscode-remote?line=0'>1</a>\u001b[0m X_train, X_test, y_train, y_test \u001b[39m=\u001b[39m splitData(X,y)\n",
      "File \u001b[0;32m~/eecs498/TweetSentimentDetector/extract_feats.py:85\u001b[0m, in \u001b[0;36msplitData\u001b[0;34m(X, y)\u001b[0m\n\u001b[1;32m     <a href='file:///home/dorayguo/eecs498/TweetSentimentDetector/extract_feats.py?line=83'>84</a>\u001b[0m \u001b[39mdef\u001b[39;00m \u001b[39msplitData\u001b[39m(X, y):\n\u001b[0;32m---> <a href='file:///home/dorayguo/eecs498/TweetSentimentDetector/extract_feats.py?line=84'>85</a>\u001b[0m \tX_train, X_test, y_train, y_test \u001b[39m=\u001b[39m train_test_split(X, y, test_size\u001b[39m=\u001b[39;49m\u001b[39m0.25\u001b[39;49m, random_state\u001b[39m=\u001b[39;49m\u001b[39m42\u001b[39;49m)\n\u001b[1;32m     <a href='file:///home/dorayguo/eecs498/TweetSentimentDetector/extract_feats.py?line=85'>86</a>\u001b[0m \t\u001b[39mreturn\u001b[39;00m X_train, X_test, y_train, y_test\n",
      "File \u001b[0;32m~/eecs498/TweetSentimentDetector/env/lib/python3.8/site-packages/sklearn/model_selection/_split.py:2443\u001b[0m, in \u001b[0;36mtrain_test_split\u001b[0;34m(test_size, train_size, random_state, shuffle, stratify, *arrays)\u001b[0m\n\u001b[1;32m   <a href='file:///home/dorayguo/eecs498/TweetSentimentDetector/env/lib/python3.8/site-packages/sklearn/model_selection/_split.py?line=2438'>2439</a>\u001b[0m     cv \u001b[39m=\u001b[39m CVClass(test_size\u001b[39m=\u001b[39mn_test, train_size\u001b[39m=\u001b[39mn_train, random_state\u001b[39m=\u001b[39mrandom_state)\n\u001b[1;32m   <a href='file:///home/dorayguo/eecs498/TweetSentimentDetector/env/lib/python3.8/site-packages/sklearn/model_selection/_split.py?line=2440'>2441</a>\u001b[0m     train, test \u001b[39m=\u001b[39m \u001b[39mnext\u001b[39m(cv\u001b[39m.\u001b[39msplit(X\u001b[39m=\u001b[39marrays[\u001b[39m0\u001b[39m], y\u001b[39m=\u001b[39mstratify))\n\u001b[0;32m-> <a href='file:///home/dorayguo/eecs498/TweetSentimentDetector/env/lib/python3.8/site-packages/sklearn/model_selection/_split.py?line=2442'>2443</a>\u001b[0m \u001b[39mreturn\u001b[39;00m \u001b[39mlist\u001b[39;49m(\n\u001b[1;32m   <a href='file:///home/dorayguo/eecs498/TweetSentimentDetector/env/lib/python3.8/site-packages/sklearn/model_selection/_split.py?line=2443'>2444</a>\u001b[0m     chain\u001b[39m.\u001b[39;49mfrom_iterable(\n\u001b[1;32m   <a href='file:///home/dorayguo/eecs498/TweetSentimentDetector/env/lib/python3.8/site-packages/sklearn/model_selection/_split.py?line=2444'>2445</a>\u001b[0m         (_safe_indexing(a, train), _safe_indexing(a, test)) \u001b[39mfor\u001b[39;49;00m a \u001b[39min\u001b[39;49;00m arrays\n\u001b[1;32m   <a href='file:///home/dorayguo/eecs498/TweetSentimentDetector/env/lib/python3.8/site-packages/sklearn/model_selection/_split.py?line=2445'>2446</a>\u001b[0m     )\n\u001b[1;32m   <a href='file:///home/dorayguo/eecs498/TweetSentimentDetector/env/lib/python3.8/site-packages/sklearn/model_selection/_split.py?line=2446'>2447</a>\u001b[0m )\n",
      "File \u001b[0;32m~/eecs498/TweetSentimentDetector/env/lib/python3.8/site-packages/sklearn/model_selection/_split.py:2445\u001b[0m, in \u001b[0;36m<genexpr>\u001b[0;34m(.0)\u001b[0m\n\u001b[1;32m   <a href='file:///home/dorayguo/eecs498/TweetSentimentDetector/env/lib/python3.8/site-packages/sklearn/model_selection/_split.py?line=2438'>2439</a>\u001b[0m     cv \u001b[39m=\u001b[39m CVClass(test_size\u001b[39m=\u001b[39mn_test, train_size\u001b[39m=\u001b[39mn_train, random_state\u001b[39m=\u001b[39mrandom_state)\n\u001b[1;32m   <a href='file:///home/dorayguo/eecs498/TweetSentimentDetector/env/lib/python3.8/site-packages/sklearn/model_selection/_split.py?line=2440'>2441</a>\u001b[0m     train, test \u001b[39m=\u001b[39m \u001b[39mnext\u001b[39m(cv\u001b[39m.\u001b[39msplit(X\u001b[39m=\u001b[39marrays[\u001b[39m0\u001b[39m], y\u001b[39m=\u001b[39mstratify))\n\u001b[1;32m   <a href='file:///home/dorayguo/eecs498/TweetSentimentDetector/env/lib/python3.8/site-packages/sklearn/model_selection/_split.py?line=2442'>2443</a>\u001b[0m \u001b[39mreturn\u001b[39;00m \u001b[39mlist\u001b[39m(\n\u001b[1;32m   <a href='file:///home/dorayguo/eecs498/TweetSentimentDetector/env/lib/python3.8/site-packages/sklearn/model_selection/_split.py?line=2443'>2444</a>\u001b[0m     chain\u001b[39m.\u001b[39mfrom_iterable(\n\u001b[0;32m-> <a href='file:///home/dorayguo/eecs498/TweetSentimentDetector/env/lib/python3.8/site-packages/sklearn/model_selection/_split.py?line=2444'>2445</a>\u001b[0m         (_safe_indexing(a, train), _safe_indexing(a, test)) \u001b[39mfor\u001b[39;00m a \u001b[39min\u001b[39;00m arrays\n\u001b[1;32m   <a href='file:///home/dorayguo/eecs498/TweetSentimentDetector/env/lib/python3.8/site-packages/sklearn/model_selection/_split.py?line=2445'>2446</a>\u001b[0m     )\n\u001b[1;32m   <a href='file:///home/dorayguo/eecs498/TweetSentimentDetector/env/lib/python3.8/site-packages/sklearn/model_selection/_split.py?line=2446'>2447</a>\u001b[0m )\n",
      "File \u001b[0;32m~/eecs498/TweetSentimentDetector/env/lib/python3.8/site-packages/sklearn/utils/__init__.py:378\u001b[0m, in \u001b[0;36m_safe_indexing\u001b[0;34m(X, indices, axis)\u001b[0m\n\u001b[1;32m    <a href='file:///home/dorayguo/eecs498/TweetSentimentDetector/env/lib/python3.8/site-packages/sklearn/utils/__init__.py?line=375'>376</a>\u001b[0m     \u001b[39mreturn\u001b[39;00m _pandas_indexing(X, indices, indices_dtype, axis\u001b[39m=\u001b[39maxis)\n\u001b[1;32m    <a href='file:///home/dorayguo/eecs498/TweetSentimentDetector/env/lib/python3.8/site-packages/sklearn/utils/__init__.py?line=376'>377</a>\u001b[0m \u001b[39melif\u001b[39;00m \u001b[39mhasattr\u001b[39m(X, \u001b[39m\"\u001b[39m\u001b[39mshape\u001b[39m\u001b[39m\"\u001b[39m):\n\u001b[0;32m--> <a href='file:///home/dorayguo/eecs498/TweetSentimentDetector/env/lib/python3.8/site-packages/sklearn/utils/__init__.py?line=377'>378</a>\u001b[0m     \u001b[39mreturn\u001b[39;00m _array_indexing(X, indices, indices_dtype, axis\u001b[39m=\u001b[39;49maxis)\n\u001b[1;32m    <a href='file:///home/dorayguo/eecs498/TweetSentimentDetector/env/lib/python3.8/site-packages/sklearn/utils/__init__.py?line=378'>379</a>\u001b[0m \u001b[39melse\u001b[39;00m:\n\u001b[1;32m    <a href='file:///home/dorayguo/eecs498/TweetSentimentDetector/env/lib/python3.8/site-packages/sklearn/utils/__init__.py?line=379'>380</a>\u001b[0m     \u001b[39mreturn\u001b[39;00m _list_indexing(X, indices, indices_dtype)\n",
      "File \u001b[0;32m~/eecs498/TweetSentimentDetector/env/lib/python3.8/site-packages/sklearn/utils/__init__.py:202\u001b[0m, in \u001b[0;36m_array_indexing\u001b[0;34m(array, key, key_dtype, axis)\u001b[0m\n\u001b[1;32m    <a href='file:///home/dorayguo/eecs498/TweetSentimentDetector/env/lib/python3.8/site-packages/sklearn/utils/__init__.py?line=199'>200</a>\u001b[0m \u001b[39mif\u001b[39;00m \u001b[39misinstance\u001b[39m(key, \u001b[39mtuple\u001b[39m):\n\u001b[1;32m    <a href='file:///home/dorayguo/eecs498/TweetSentimentDetector/env/lib/python3.8/site-packages/sklearn/utils/__init__.py?line=200'>201</a>\u001b[0m     key \u001b[39m=\u001b[39m \u001b[39mlist\u001b[39m(key)\n\u001b[0;32m--> <a href='file:///home/dorayguo/eecs498/TweetSentimentDetector/env/lib/python3.8/site-packages/sklearn/utils/__init__.py?line=201'>202</a>\u001b[0m \u001b[39mreturn\u001b[39;00m array[key] \u001b[39mif\u001b[39;00m axis \u001b[39m==\u001b[39m \u001b[39m0\u001b[39m \u001b[39melse\u001b[39;00m array[:, key]\n",
      "\u001b[0;31mKeyboardInterrupt\u001b[0m: "
     ]
    }
   ],
   "source": [
    "X_train, X_test, y_train, y_test = splitData(X,y)"
   ]
  },
  {
   "cell_type": "code",
   "execution_count": null,
   "metadata": {},
   "outputs": [],
   "source": [
    "X_train2, X_test2, y_train2, y_test2 = splitData(X2,y)"
   ]
  },
  {
   "cell_type": "code",
   "execution_count": null,
   "metadata": {},
   "outputs": [],
   "source": [
    "clf, accuracy = trainLogisticRegression(X_train, X_test, y_train, y_test)"
   ]
  },
  {
   "cell_type": "code",
   "execution_count": null,
   "metadata": {},
   "outputs": [],
   "source": [
    "clf2, accuracy2 = trainLogisticRegression(X_train2, X_test2, y_train2, y_test2)"
   ]
  },
  {
   "cell_type": "code",
   "execution_count": null,
   "metadata": {},
   "outputs": [
    {
     "data": {
      "text/plain": [
       "0.853"
      ]
     },
     "execution_count": 30,
     "metadata": {},
     "output_type": "execute_result"
    }
   ],
   "source": [
    "accuracy 'using BoW'"
   ]
  },
  {
   "cell_type": "code",
   "execution_count": null,
   "metadata": {},
   "outputs": [
    {
     "data": {
      "text/plain": [
       "0.817"
      ]
     },
     "execution_count": 33,
     "metadata": {},
     "output_type": "execute_result"
    }
   ],
   "source": [
    "accuracy2 'using TfIdF'"
   ]
  },
  {
   "cell_type": "code",
   "execution_count": 37,
   "metadata": {},
   "outputs": [
    {
     "data": {
      "text/html": [
       "<div>\n",
       "<style scoped>\n",
       "    .dataframe tbody tr th:only-of-type {\n",
       "        vertical-align: middle;\n",
       "    }\n",
       "\n",
       "    .dataframe tbody tr th {\n",
       "        vertical-align: top;\n",
       "    }\n",
       "\n",
       "    .dataframe thead th {\n",
       "        text-align: right;\n",
       "    }\n",
       "</style>\n",
       "<table border=\"1\" class=\"dataframe\">\n",
       "  <thead>\n",
       "    <tr style=\"text-align: right;\">\n",
       "      <th></th>\n",
       "      <th>0</th>\n",
       "      <th>1</th>\n",
       "    </tr>\n",
       "  </thead>\n",
       "  <tbody>\n",
       "    <tr>\n",
       "      <th>0</th>\n",
       "      <td>1240727808080412673</td>\n",
       "      <td>0.357143</td>\n",
       "    </tr>\n",
       "    <tr>\n",
       "      <th>1</th>\n",
       "      <td>1240727808005079041</td>\n",
       "      <td>0.116071</td>\n",
       "    </tr>\n",
       "    <tr>\n",
       "      <th>2</th>\n",
       "      <td>1240727808340414464</td>\n",
       "      <td>-0.050000</td>\n",
       "    </tr>\n",
       "    <tr>\n",
       "      <th>3</th>\n",
       "      <td>1240727808629813248</td>\n",
       "      <td>-0.714286</td>\n",
       "    </tr>\n",
       "    <tr>\n",
       "      <th>4</th>\n",
       "      <td>1240727808617230336</td>\n",
       "      <td>0.700000</td>\n",
       "    </tr>\n",
       "    <tr>\n",
       "      <th>...</th>\n",
       "      <td>...</td>\n",
       "      <td>...</td>\n",
       "    </tr>\n",
       "    <tr>\n",
       "      <th>831322</th>\n",
       "      <td>1240861453524930562</td>\n",
       "      <td>0.000000</td>\n",
       "    </tr>\n",
       "    <tr>\n",
       "      <th>831323</th>\n",
       "      <td>1240861453554315265</td>\n",
       "      <td>0.140693</td>\n",
       "    </tr>\n",
       "    <tr>\n",
       "      <th>831324</th>\n",
       "      <td>1240861453503959043</td>\n",
       "      <td>0.000000</td>\n",
       "    </tr>\n",
       "    <tr>\n",
       "      <th>831325</th>\n",
       "      <td>1240861453311070209</td>\n",
       "      <td>0.000000</td>\n",
       "    </tr>\n",
       "    <tr>\n",
       "      <th>831326</th>\n",
       "      <td>1240861453680128000</td>\n",
       "      <td>0.000000</td>\n",
       "    </tr>\n",
       "  </tbody>\n",
       "</table>\n",
       "<p>831327 rows × 2 columns</p>\n",
       "</div>"
      ],
      "text/plain": [
       "                          0         1\n",
       "0       1240727808080412673  0.357143\n",
       "1       1240727808005079041  0.116071\n",
       "2       1240727808340414464 -0.050000\n",
       "3       1240727808629813248 -0.714286\n",
       "4       1240727808617230336  0.700000\n",
       "...                     ...       ...\n",
       "831322  1240861453524930562  0.000000\n",
       "831323  1240861453554315265  0.140693\n",
       "831324  1240861453503959043  0.000000\n",
       "831325  1240861453311070209  0.000000\n",
       "831326  1240861453680128000  0.000000\n",
       "\n",
       "[831327 rows x 2 columns]"
      ]
     },
     "execution_count": 37,
     "metadata": {},
     "output_type": "execute_result"
    }
   ],
   "source": [
    "df = pd.read_csv('data/corona_tweets/corona_tweets_01.csv', header=None)\n",
    "df"
   ]
  },
  {
   "cell_type": "code",
   "execution_count": 38,
   "metadata": {},
   "outputs": [
    {
     "data": {
      "text/html": [
       "<div>\n",
       "<style scoped>\n",
       "    .dataframe tbody tr th:only-of-type {\n",
       "        vertical-align: middle;\n",
       "    }\n",
       "\n",
       "    .dataframe tbody tr th {\n",
       "        vertical-align: top;\n",
       "    }\n",
       "\n",
       "    .dataframe thead th {\n",
       "        text-align: right;\n",
       "    }\n",
       "</style>\n",
       "<table border=\"1\" class=\"dataframe\">\n",
       "  <thead>\n",
       "    <tr style=\"text-align: right;\">\n",
       "      <th></th>\n",
       "      <th>text</th>\n",
       "      <th>author</th>\n",
       "      <th>timestamp</th>\n",
       "    </tr>\n",
       "  </thead>\n",
       "  <tbody>\n",
       "    <tr>\n",
       "      <th>0</th>\n",
       "      <td>longer defend make excuse reasoning want inten...</td>\n",
       "      <td>trying use wits good evil people united change...</td>\n",
       "      <td>2020-03-19T19:52:15.000Z</td>\n",
       "    </tr>\n",
       "    <tr>\n",
       "      <th>1</th>\n",
       "      <td>everyone looks sick</td>\n",
       "      <td>starchild go wild :dizzy: :butterfly: ig remin...</td>\n",
       "      <td>2020-03-19T19:52:15.000Z</td>\n",
       "    </tr>\n",
       "    <tr>\n",
       "      <th>2</th>\n",
       "      <td>good came china</td>\n",
       "      <td></td>\n",
       "      <td>2020-03-19T19:52:15.000Z</td>\n",
       "    </tr>\n",
       "    <tr>\n",
       "      <th>3</th>\n",
       "      <td>corona day feels like sunday ...</td>\n",
       "      <td></td>\n",
       "      <td>2020-03-19T19:52:15.000Z</td>\n",
       "    </tr>\n",
       "    <tr>\n",
       "      <th>4</th>\n",
       "      <td>close president notes seen crossed corona repl...</td>\n",
       "      <td></td>\n",
       "      <td>2020-03-19T19:52:15.000Z</td>\n",
       "    </tr>\n",
       "    <tr>\n",
       "      <th>...</th>\n",
       "      <td>...</td>\n",
       "      <td>...</td>\n",
       "      <td>...</td>\n",
       "    </tr>\n",
       "    <tr>\n",
       "      <th>56</th>\n",
       "      <td>asked dc cop noticed since coronavirus sent pe...</td>\n",
       "      <td>ut-business marketing mastersmgmt aquinas prou...</td>\n",
       "      <td>2020-03-19T19:52:18.000Z</td>\n",
       "    </tr>\n",
       "    <tr>\n",
       "      <th>57</th>\n",
       "      <td>lot would actually benefit taking good look in...</td>\n",
       "      <td></td>\n",
       "      <td>2020-03-19T19:52:18.000Z</td>\n",
       "    </tr>\n",
       "    <tr>\n",
       "      <th>58</th>\n",
       "      <td>close president notes seen crossed corona repl...</td>\n",
       "      <td>i'm great believer luck find harder work thoma...</td>\n",
       "      <td>2020-03-19T19:52:18.000Z</td>\n",
       "    </tr>\n",
       "    <tr>\n",
       "      <th>59</th>\n",
       "      <td>among things shows they're using term coronavi...</td>\n",
       "      <td>pro market pro immigrant pro gmo anti supersti...</td>\n",
       "      <td>2020-03-19T19:52:18.000Z</td>\n",
       "    </tr>\n",
       "    <tr>\n",
       "      <th>60</th>\n",
       "      <td>generation z want name folks love calling ever...</td>\n",
       "      <td>batman moron i'm animation clips</td>\n",
       "      <td>2020-03-19T19:52:18.000Z</td>\n",
       "    </tr>\n",
       "  </tbody>\n",
       "</table>\n",
       "<p>61 rows × 3 columns</p>\n",
       "</div>"
      ],
      "text/plain": [
       "                                                 text  \\\n",
       "0   longer defend make excuse reasoning want inten...   \n",
       "1                                 everyone looks sick   \n",
       "2                                     good came china   \n",
       "3                    corona day feels like sunday ...   \n",
       "4   close president notes seen crossed corona repl...   \n",
       "..                                                ...   \n",
       "56  asked dc cop noticed since coronavirus sent pe...   \n",
       "57  lot would actually benefit taking good look in...   \n",
       "58  close president notes seen crossed corona repl...   \n",
       "59  among things shows they're using term coronavi...   \n",
       "60  generation z want name folks love calling ever...   \n",
       "\n",
       "                                               author  \\\n",
       "0   trying use wits good evil people united change...   \n",
       "1   starchild go wild :dizzy: :butterfly: ig remin...   \n",
       "2                                                       \n",
       "3                                                       \n",
       "4                                                       \n",
       "..                                                ...   \n",
       "56  ut-business marketing mastersmgmt aquinas prou...   \n",
       "57                                                      \n",
       "58  i'm great believer luck find harder work thoma...   \n",
       "59  pro market pro immigrant pro gmo anti supersti...   \n",
       "60                   batman moron i'm animation clips   \n",
       "\n",
       "                   timestamp  \n",
       "0   2020-03-19T19:52:15.000Z  \n",
       "1   2020-03-19T19:52:15.000Z  \n",
       "2   2020-03-19T19:52:15.000Z  \n",
       "3   2020-03-19T19:52:15.000Z  \n",
       "4   2020-03-19T19:52:15.000Z  \n",
       "..                       ...  \n",
       "56  2020-03-19T19:52:18.000Z  \n",
       "57  2020-03-19T19:52:18.000Z  \n",
       "58  2020-03-19T19:52:18.000Z  \n",
       "59  2020-03-19T19:52:18.000Z  \n",
       "60  2020-03-19T19:52:18.000Z  \n",
       "\n",
       "[61 rows x 3 columns]"
      ]
     },
     "execution_count": 38,
     "metadata": {},
     "output_type": "execute_result"
    }
   ],
   "source": [
    "tweet_fields=['created_at'],\n",
    "user_fields=['description']\n",
    "\n",
    "text_data, author_data, timestamp_data = hydrateTweets(df, tweet_fields, user_fields)\n",
    "d = {'text': text_data, 'author': author_data, 'timestamp': timestamp_data}\n",
    "tweet_data = pd.DataFrame(data=d)\n",
    "tweet_data"
   ]
  },
  {
   "cell_type": "code",
   "execution_count": 39,
   "metadata": {},
   "outputs": [
    {
     "data": {
      "text/plain": [
       "(array([[0, 0, 0, ..., 0, 0, 0],\n",
       "        [0, 0, 0, ..., 0, 0, 0],\n",
       "        [0, 0, 0, ..., 0, 0, 0],\n",
       "        ...,\n",
       "        [0, 0, 0, ..., 0, 0, 0],\n",
       "        [0, 0, 0, ..., 0, 0, 0],\n",
       "        [0, 0, 0, ..., 0, 1, 0]]),\n",
       " array([ 0.35714286,  0.11607143, -0.05      , ...,  0.        ,\n",
       "         0.        ,  0.        ]))"
      ]
     },
     "execution_count": 39,
     "metadata": {},
     "output_type": "execute_result"
    }
   ],
   "source": [
    "X, y = createBoWFeatureVecTweets(tweet_data['text'].tolist(), df[1].values, vectorizer)\n",
    "X, y"
   ]
  },
  {
   "cell_type": "code",
   "execution_count": 40,
   "metadata": {},
   "outputs": [
    {
     "data": {
      "text/plain": [
       "(array([[0.        , 0.        , 0.        , ..., 0.        , 0.        ,\n",
       "         0.        ],\n",
       "        [0.        , 0.        , 0.        , ..., 0.        , 0.        ,\n",
       "         0.        ],\n",
       "        [0.        , 0.        , 0.        , ..., 0.        , 0.        ,\n",
       "         0.        ],\n",
       "        ...,\n",
       "        [0.        , 0.        , 0.        , ..., 0.        , 0.        ,\n",
       "         0.        ],\n",
       "        [0.        , 0.        , 0.        , ..., 0.        , 0.        ,\n",
       "         0.        ],\n",
       "        [0.        , 0.        , 0.        , ..., 0.        , 0.19842294,\n",
       "         0.        ]]),\n",
       " array([ 0.35714286,  0.11607143, -0.05      , ...,  0.        ,\n",
       "         0.        ,  0.        ]))"
      ]
     },
     "execution_count": 40,
     "metadata": {},
     "output_type": "execute_result"
    }
   ],
   "source": [
    "X, y = createTfIdfFeatureVecTweets(tweet_data['text'].tolist(), df[1].values, vectorizer2)\n",
    "X, y"
   ]
  }
 ],
 "metadata": {
  "interpreter": {
   "hash": "aee8b7b246df8f9039afb4144a1f6fd8d2ca17a180786b69acc140d282b71a49"
  },
  "kernelspec": {
   "display_name": "Python 3",
   "language": "python",
   "name": "python3"
  },
  "language_info": {
   "codemirror_mode": {
    "name": "ipython",
    "version": 3
   },
   "file_extension": ".py",
   "mimetype": "text/x-python",
   "name": "python",
   "nbconvert_exporter": "python",
   "pygments_lexer": "ipython3",
   "version": "3.8.10"
  }
 },
 "nbformat": 4,
 "nbformat_minor": 2
}
