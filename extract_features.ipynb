{
 "cells": [
  {
   "cell_type": "code",
   "execution_count": 1,
   "metadata": {},
   "outputs": [],
   "source": [
    "%load_ext autoreload\n",
    "%autoreload 2"
   ]
  },
  {
   "cell_type": "code",
   "execution_count": 93,
   "metadata": {},
   "outputs": [],
   "source": [
    "import pandas as pd\n",
    "from sklearn.model_selection import GridSearchCV, cross_val_score, RepeatedStratifiedKFold, StratifiedKFold\n",
    "from sklearn.metrics import accuracy_score, confusion_matrix, roc_curve, roc_auc_score, precision_score, recall_score, precision_recall_curve\n",
    "from sklearn.metrics import f1_score\n",
    "from sklearn.utils.class_weight import compute_class_weight\n",
    "from extract_feats import *\n",
    "#from hydrate_tweets import *"
   ]
  },
  {
   "cell_type": "code",
   "execution_count": 10,
   "metadata": {},
   "outputs": [
    {
     "data": {
      "text/html": [
       "<div>\n",
       "<style scoped>\n",
       "    .dataframe tbody tr th:only-of-type {\n",
       "        vertical-align: middle;\n",
       "    }\n",
       "\n",
       "    .dataframe tbody tr th {\n",
       "        vertical-align: top;\n",
       "    }\n",
       "\n",
       "    .dataframe thead th {\n",
       "        text-align: right;\n",
       "    }\n",
       "</style>\n",
       "<table border=\"1\" class=\"dataframe\">\n",
       "  <thead>\n",
       "    <tr style=\"text-align: right;\">\n",
       "      <th></th>\n",
       "      <th>text</th>\n",
       "      <th>label</th>\n",
       "    </tr>\n",
       "  </thead>\n",
       "  <tbody>\n",
       "    <tr>\n",
       "      <th>0</th>\n",
       "      <td>i didnt feel humiliated</td>\n",
       "      <td>0</td>\n",
       "    </tr>\n",
       "    <tr>\n",
       "      <th>1</th>\n",
       "      <td>i can go from feeling so hopeless to so damned...</td>\n",
       "      <td>0</td>\n",
       "    </tr>\n",
       "    <tr>\n",
       "      <th>2</th>\n",
       "      <td>im grabbing a minute to post i feel greedy wrong</td>\n",
       "      <td>3</td>\n",
       "    </tr>\n",
       "    <tr>\n",
       "      <th>3</th>\n",
       "      <td>i am ever feeling nostalgic about the fireplac...</td>\n",
       "      <td>2</td>\n",
       "    </tr>\n",
       "    <tr>\n",
       "      <th>4</th>\n",
       "      <td>i am feeling grouchy</td>\n",
       "      <td>3</td>\n",
       "    </tr>\n",
       "    <tr>\n",
       "      <th>...</th>\n",
       "      <td>...</td>\n",
       "      <td>...</td>\n",
       "    </tr>\n",
       "    <tr>\n",
       "      <th>15995</th>\n",
       "      <td>i just had a very brief time in the beanbag an...</td>\n",
       "      <td>0</td>\n",
       "    </tr>\n",
       "    <tr>\n",
       "      <th>15996</th>\n",
       "      <td>i am now turning and i feel pathetic that i am...</td>\n",
       "      <td>0</td>\n",
       "    </tr>\n",
       "    <tr>\n",
       "      <th>15997</th>\n",
       "      <td>i feel strong and good overall</td>\n",
       "      <td>1</td>\n",
       "    </tr>\n",
       "    <tr>\n",
       "      <th>15998</th>\n",
       "      <td>i feel like this was such a rude comment and i...</td>\n",
       "      <td>3</td>\n",
       "    </tr>\n",
       "    <tr>\n",
       "      <th>15999</th>\n",
       "      <td>i know a lot but i feel so stupid because i ca...</td>\n",
       "      <td>0</td>\n",
       "    </tr>\n",
       "  </tbody>\n",
       "</table>\n",
       "<p>16000 rows × 2 columns</p>\n",
       "</div>"
      ],
      "text/plain": [
       "                                                    text  label\n",
       "0                                i didnt feel humiliated      0\n",
       "1      i can go from feeling so hopeless to so damned...      0\n",
       "2       im grabbing a minute to post i feel greedy wrong      3\n",
       "3      i am ever feeling nostalgic about the fireplac...      2\n",
       "4                                   i am feeling grouchy      3\n",
       "...                                                  ...    ...\n",
       "15995  i just had a very brief time in the beanbag an...      0\n",
       "15996  i am now turning and i feel pathetic that i am...      0\n",
       "15997                     i feel strong and good overall      1\n",
       "15998  i feel like this was such a rude comment and i...      3\n",
       "15999  i know a lot but i feel so stupid because i ca...      0\n",
       "\n",
       "[16000 rows x 2 columns]"
      ]
     },
     "execution_count": 10,
     "metadata": {},
     "output_type": "execute_result"
    }
   ],
   "source": [
    "df = pd.read_csv('data/training.csv')\n",
    "df"
   ]
  },
  {
   "cell_type": "code",
   "execution_count": 11,
   "metadata": {},
   "outputs": [
    {
     "data": {
      "text/html": [
       "<div>\n",
       "<style scoped>\n",
       "    .dataframe tbody tr th:only-of-type {\n",
       "        vertical-align: middle;\n",
       "    }\n",
       "\n",
       "    .dataframe tbody tr th {\n",
       "        vertical-align: top;\n",
       "    }\n",
       "\n",
       "    .dataframe thead th {\n",
       "        text-align: right;\n",
       "    }\n",
       "</style>\n",
       "<table border=\"1\" class=\"dataframe\">\n",
       "  <thead>\n",
       "    <tr style=\"text-align: right;\">\n",
       "      <th></th>\n",
       "      <th>text</th>\n",
       "      <th>label</th>\n",
       "    </tr>\n",
       "  </thead>\n",
       "  <tbody>\n",
       "    <tr>\n",
       "      <th>0</th>\n",
       "      <td>im feeling rather rotten so im not very ambiti...</td>\n",
       "      <td>0</td>\n",
       "    </tr>\n",
       "    <tr>\n",
       "      <th>1</th>\n",
       "      <td>im updating my blog because i feel shitty</td>\n",
       "      <td>0</td>\n",
       "    </tr>\n",
       "    <tr>\n",
       "      <th>2</th>\n",
       "      <td>i never make her separate from me because i do...</td>\n",
       "      <td>0</td>\n",
       "    </tr>\n",
       "    <tr>\n",
       "      <th>3</th>\n",
       "      <td>i left with my bouquet of red and yellow tulip...</td>\n",
       "      <td>1</td>\n",
       "    </tr>\n",
       "    <tr>\n",
       "      <th>4</th>\n",
       "      <td>i was feeling a little vain when i did this one</td>\n",
       "      <td>0</td>\n",
       "    </tr>\n",
       "    <tr>\n",
       "      <th>...</th>\n",
       "      <td>...</td>\n",
       "      <td>...</td>\n",
       "    </tr>\n",
       "    <tr>\n",
       "      <th>1995</th>\n",
       "      <td>i just keep feeling like someone is being unki...</td>\n",
       "      <td>3</td>\n",
       "    </tr>\n",
       "    <tr>\n",
       "      <th>1996</th>\n",
       "      <td>im feeling a little cranky negative after this...</td>\n",
       "      <td>3</td>\n",
       "    </tr>\n",
       "    <tr>\n",
       "      <th>1997</th>\n",
       "      <td>i feel that i am useful to my people and that ...</td>\n",
       "      <td>1</td>\n",
       "    </tr>\n",
       "    <tr>\n",
       "      <th>1998</th>\n",
       "      <td>im feeling more comfortable with derby i feel ...</td>\n",
       "      <td>1</td>\n",
       "    </tr>\n",
       "    <tr>\n",
       "      <th>1999</th>\n",
       "      <td>i feel all weird when i have to meet w people ...</td>\n",
       "      <td>4</td>\n",
       "    </tr>\n",
       "  </tbody>\n",
       "</table>\n",
       "<p>2000 rows × 2 columns</p>\n",
       "</div>"
      ],
      "text/plain": [
       "                                                   text  label\n",
       "0     im feeling rather rotten so im not very ambiti...      0\n",
       "1             im updating my blog because i feel shitty      0\n",
       "2     i never make her separate from me because i do...      0\n",
       "3     i left with my bouquet of red and yellow tulip...      1\n",
       "4       i was feeling a little vain when i did this one      0\n",
       "...                                                 ...    ...\n",
       "1995  i just keep feeling like someone is being unki...      3\n",
       "1996  im feeling a little cranky negative after this...      3\n",
       "1997  i feel that i am useful to my people and that ...      1\n",
       "1998  im feeling more comfortable with derby i feel ...      1\n",
       "1999  i feel all weird when i have to meet w people ...      4\n",
       "\n",
       "[2000 rows x 2 columns]"
      ]
     },
     "execution_count": 11,
     "metadata": {},
     "output_type": "execute_result"
    }
   ],
   "source": [
    "df_test = pd.read_csv('data/test.csv')\n",
    "df_test"
   ]
  },
  {
   "cell_type": "code",
   "execution_count": 13,
   "metadata": {},
   "outputs": [],
   "source": [
    "label_mapping = {0: 'sadness', 1: 'joy', 2: 'love', 3: 'anger', 4: 'fear'}"
   ]
  },
  {
   "cell_type": "code",
   "execution_count": 5,
   "metadata": {},
   "outputs": [
    {
     "data": {
      "text/plain": [
       "\"\\nfeatures = {'anger': 0, 'anticipation': 1, 'disgust': 2, 'fear': 3, 'joy': 4, 'sadness': 5,\\n            'surprise': 6, 'trust': 7, 'negative': 8, 'positive': 9, 'CC': 10, 'IN': 11, 'JJR': 12,\\n            'JJS': 13, 'PRP': 14, '!': 15, '?': 16}\\nnrc_pos_feats = extract_nrc_pos_feats(df, features)\\nnrc_pos_feats\\n\""
      ]
     },
     "execution_count": 5,
     "metadata": {},
     "output_type": "execute_result"
    }
   ],
   "source": [
    "'''\n",
    "features = {'anger': 0, 'anticipation': 1, 'disgust': 2, 'fear': 3, 'joy': 4, 'sadness': 5,\n",
    "            'surprise': 6, 'trust': 7, 'negative': 8, 'positive': 9, 'CC': 10, 'IN': 11, 'JJR': 12,\n",
    "            'JJS': 13, 'PRP': 14, '!': 15, '?': 16}\n",
    "nrc_pos_feats = extract_nrc_pos_feats(df, features)\n",
    "nrc_pos_feats\n",
    "'''"
   ]
  },
  {
   "cell_type": "code",
   "execution_count": 14,
   "metadata": {},
   "outputs": [
    {
     "data": {
      "text/html": [
       "<div>\n",
       "<style scoped>\n",
       "    .dataframe tbody tr th:only-of-type {\n",
       "        vertical-align: middle;\n",
       "    }\n",
       "\n",
       "    .dataframe tbody tr th {\n",
       "        vertical-align: top;\n",
       "    }\n",
       "\n",
       "    .dataframe thead th {\n",
       "        text-align: right;\n",
       "    }\n",
       "</style>\n",
       "<table border=\"1\" class=\"dataframe\">\n",
       "  <thead>\n",
       "    <tr style=\"text-align: right;\">\n",
       "      <th></th>\n",
       "      <th>text</th>\n",
       "      <th>label</th>\n",
       "    </tr>\n",
       "  </thead>\n",
       "  <tbody>\n",
       "    <tr>\n",
       "      <th>0</th>\n",
       "      <td>didnt feel humili</td>\n",
       "      <td>0</td>\n",
       "    </tr>\n",
       "    <tr>\n",
       "      <th>1</th>\n",
       "      <td>go feel hopeless damn hope around someon care ...</td>\n",
       "      <td>0</td>\n",
       "    </tr>\n",
       "    <tr>\n",
       "      <th>2</th>\n",
       "      <td>im grab minut post feel greedi wrong</td>\n",
       "      <td>3</td>\n",
       "    </tr>\n",
       "    <tr>\n",
       "      <th>3</th>\n",
       "      <td>ever feel nostalg fireplac know still properti</td>\n",
       "      <td>2</td>\n",
       "    </tr>\n",
       "    <tr>\n",
       "      <th>4</th>\n",
       "      <td>feel grouchi</td>\n",
       "      <td>3</td>\n",
       "    </tr>\n",
       "    <tr>\n",
       "      <th>...</th>\n",
       "      <td>...</td>\n",
       "      <td>...</td>\n",
       "    </tr>\n",
       "    <tr>\n",
       "      <th>15995</th>\n",
       "      <td>veri brief time beanbag said anna feel like be...</td>\n",
       "      <td>0</td>\n",
       "    </tr>\n",
       "    <tr>\n",
       "      <th>15996</th>\n",
       "      <td>turn feel pathet still wait tabl sub teach degre</td>\n",
       "      <td>0</td>\n",
       "    </tr>\n",
       "    <tr>\n",
       "      <th>15997</th>\n",
       "      <td>feel strong good overal</td>\n",
       "      <td>1</td>\n",
       "    </tr>\n",
       "    <tr>\n",
       "      <th>15998</th>\n",
       "      <td>feel like thi wa rude comment im glad</td>\n",
       "      <td>3</td>\n",
       "    </tr>\n",
       "    <tr>\n",
       "      <th>15999</th>\n",
       "      <td>know lot feel stupid becaus portray</td>\n",
       "      <td>0</td>\n",
       "    </tr>\n",
       "  </tbody>\n",
       "</table>\n",
       "<p>16000 rows × 2 columns</p>\n",
       "</div>"
      ],
      "text/plain": [
       "                                                    text  label\n",
       "0                                      didnt feel humili      0\n",
       "1      go feel hopeless damn hope around someon care ...      0\n",
       "2                   im grab minut post feel greedi wrong      3\n",
       "3         ever feel nostalg fireplac know still properti      2\n",
       "4                                           feel grouchi      3\n",
       "...                                                  ...    ...\n",
       "15995  veri brief time beanbag said anna feel like be...      0\n",
       "15996   turn feel pathet still wait tabl sub teach degre      0\n",
       "15997                            feel strong good overal      1\n",
       "15998              feel like thi wa rude comment im glad      3\n",
       "15999                know lot feel stupid becaus portray      0\n",
       "\n",
       "[16000 rows x 2 columns]"
      ]
     },
     "execution_count": 14,
     "metadata": {},
     "output_type": "execute_result"
    }
   ],
   "source": [
    "cleaned_data = cleanData(df)\n",
    "cleaned_data"
   ]
  },
  {
   "cell_type": "code",
   "execution_count": 12,
   "metadata": {},
   "outputs": [
    {
     "data": {
      "text/html": [
       "<div>\n",
       "<style scoped>\n",
       "    .dataframe tbody tr th:only-of-type {\n",
       "        vertical-align: middle;\n",
       "    }\n",
       "\n",
       "    .dataframe tbody tr th {\n",
       "        vertical-align: top;\n",
       "    }\n",
       "\n",
       "    .dataframe thead th {\n",
       "        text-align: right;\n",
       "    }\n",
       "</style>\n",
       "<table border=\"1\" class=\"dataframe\">\n",
       "  <thead>\n",
       "    <tr style=\"text-align: right;\">\n",
       "      <th></th>\n",
       "      <th>text</th>\n",
       "      <th>label</th>\n",
       "    </tr>\n",
       "  </thead>\n",
       "  <tbody>\n",
       "    <tr>\n",
       "      <th>0</th>\n",
       "      <td>im feel rather rotten im veri ambiti right</td>\n",
       "      <td>0</td>\n",
       "    </tr>\n",
       "    <tr>\n",
       "      <th>1</th>\n",
       "      <td>im updat blog becaus feel shitti</td>\n",
       "      <td>0</td>\n",
       "    </tr>\n",
       "    <tr>\n",
       "      <th>2</th>\n",
       "      <td>never make separ becaus ever want feel like asham</td>\n",
       "      <td>0</td>\n",
       "    </tr>\n",
       "    <tr>\n",
       "      <th>3</th>\n",
       "      <td>left bouquet red yellow tulip arm feel slightl...</td>\n",
       "      <td>1</td>\n",
       "    </tr>\n",
       "    <tr>\n",
       "      <th>4</th>\n",
       "      <td>wa feel littl vain thi one</td>\n",
       "      <td>0</td>\n",
       "    </tr>\n",
       "    <tr>\n",
       "      <th>...</th>\n",
       "      <td>...</td>\n",
       "      <td>...</td>\n",
       "    </tr>\n",
       "    <tr>\n",
       "      <th>1995</th>\n",
       "      <td>keep feel like someon unkind wrong think get b...</td>\n",
       "      <td>3</td>\n",
       "    </tr>\n",
       "    <tr>\n",
       "      <th>1996</th>\n",
       "      <td>im feel littl cranki neg thi doctor appoint</td>\n",
       "      <td>3</td>\n",
       "    </tr>\n",
       "    <tr>\n",
       "      <th>1997</th>\n",
       "      <td>feel use peopl give great feel achiev</td>\n",
       "      <td>1</td>\n",
       "    </tr>\n",
       "    <tr>\n",
       "      <th>1998</th>\n",
       "      <td>im feel comfort derbi feel though start step s...</td>\n",
       "      <td>1</td>\n",
       "    </tr>\n",
       "    <tr>\n",
       "      <th>1999</th>\n",
       "      <td>feel weird meet w peopl text like dont talk fa...</td>\n",
       "      <td>4</td>\n",
       "    </tr>\n",
       "  </tbody>\n",
       "</table>\n",
       "<p>2000 rows × 2 columns</p>\n",
       "</div>"
      ],
      "text/plain": [
       "                                                   text  label\n",
       "0            im feel rather rotten im veri ambiti right      0\n",
       "1                      im updat blog becaus feel shitti      0\n",
       "2     never make separ becaus ever want feel like asham      0\n",
       "3     left bouquet red yellow tulip arm feel slightl...      1\n",
       "4                            wa feel littl vain thi one      0\n",
       "...                                                 ...    ...\n",
       "1995  keep feel like someon unkind wrong think get b...      3\n",
       "1996        im feel littl cranki neg thi doctor appoint      3\n",
       "1997              feel use peopl give great feel achiev      1\n",
       "1998  im feel comfort derbi feel though start step s...      1\n",
       "1999  feel weird meet w peopl text like dont talk fa...      4\n",
       "\n",
       "[2000 rows x 2 columns]"
      ]
     },
     "execution_count": 12,
     "metadata": {},
     "output_type": "execute_result"
    }
   ],
   "source": [
    "cleaned_test = cleanData(df_test)\n",
    "cleaned_test"
   ]
  },
  {
   "cell_type": "code",
   "execution_count": 15,
   "metadata": {},
   "outputs": [],
   "source": [
    "X_train, y_train, vectorizer = createBoWFeatureVec(cleaned_data)"
   ]
  },
  {
   "cell_type": "code",
   "execution_count": 19,
   "metadata": {},
   "outputs": [],
   "source": [
    "X_test = vectorizer.transform(cleaned_test['text']).toarray()\n",
    "y_test = cleaned_test.loc[:, 'label'].values"
   ]
  },
  {
   "cell_type": "code",
   "execution_count": 17,
   "metadata": {},
   "outputs": [
    {
     "data": {
      "text/plain": [
       "(array([[0, 0, 0, ..., 0, 0, 0],\n",
       "        [0, 0, 0, ..., 0, 0, 0],\n",
       "        [0, 0, 0, ..., 0, 0, 0],\n",
       "        ...,\n",
       "        [0, 0, 0, ..., 0, 0, 0],\n",
       "        [0, 0, 0, ..., 0, 0, 0],\n",
       "        [0, 0, 0, ..., 0, 0, 0]]),\n",
       " array([0, 0, 3, ..., 1, 3, 0]))"
      ]
     },
     "execution_count": 17,
     "metadata": {},
     "output_type": "execute_result"
    }
   ],
   "source": [
    "X_train, y_train"
   ]
  },
  {
   "cell_type": "code",
   "execution_count": 20,
   "metadata": {},
   "outputs": [
    {
     "data": {
      "text/plain": [
       "(array([[0, 0, 0, ..., 0, 0, 0],\n",
       "        [0, 0, 0, ..., 0, 0, 0],\n",
       "        [0, 0, 0, ..., 0, 0, 0],\n",
       "        ...,\n",
       "        [0, 0, 0, ..., 0, 0, 0],\n",
       "        [0, 0, 0, ..., 0, 0, 0],\n",
       "        [0, 0, 0, ..., 0, 0, 0]]),\n",
       " array([0, 0, 0, ..., 1, 1, 4]))"
      ]
     },
     "execution_count": 20,
     "metadata": {},
     "output_type": "execute_result"
    }
   ],
   "source": [
    "X_test, y_test"
   ]
  },
  {
   "cell_type": "code",
   "execution_count": 21,
   "metadata": {},
   "outputs": [],
   "source": [
    "X2_train, y_train, vectorizer2 = createTfIdfFeatureVec(cleaned_data)"
   ]
  },
  {
   "cell_type": "code",
   "execution_count": 22,
   "metadata": {},
   "outputs": [],
   "source": [
    "X2_test = vectorizer2.transform(cleaned_test['text']).toarray()\n",
    "y_test = cleaned_test.loc[:, 'label'].values"
   ]
  },
  {
   "cell_type": "code",
   "execution_count": 23,
   "metadata": {},
   "outputs": [
    {
     "data": {
      "text/plain": [
       "(array([[0., 0., 0., ..., 0., 0., 0.],\n",
       "        [0., 0., 0., ..., 0., 0., 0.],\n",
       "        [0., 0., 0., ..., 0., 0., 0.],\n",
       "        ...,\n",
       "        [0., 0., 0., ..., 0., 0., 0.],\n",
       "        [0., 0., 0., ..., 0., 0., 0.],\n",
       "        [0., 0., 0., ..., 0., 0., 0.]]),\n",
       " array([0, 0, 3, ..., 1, 3, 0]))"
      ]
     },
     "execution_count": 23,
     "metadata": {},
     "output_type": "execute_result"
    }
   ],
   "source": [
    "X2_train, y_train"
   ]
  },
  {
   "cell_type": "code",
   "execution_count": 24,
   "metadata": {},
   "outputs": [
    {
     "data": {
      "text/plain": [
       "(array([[0., 0., 0., ..., 0., 0., 0.],\n",
       "        [0., 0., 0., ..., 0., 0., 0.],\n",
       "        [0., 0., 0., ..., 0., 0., 0.],\n",
       "        ...,\n",
       "        [0., 0., 0., ..., 0., 0., 0.],\n",
       "        [0., 0., 0., ..., 0., 0., 0.],\n",
       "        [0., 0., 0., ..., 0., 0., 0.]]),\n",
       " array([0, 0, 0, ..., 1, 1, 4]))"
      ]
     },
     "execution_count": 24,
     "metadata": {},
     "output_type": "execute_result"
    }
   ],
   "source": [
    "X2_test, y_test"
   ]
  },
  {
   "cell_type": "code",
   "execution_count": 55,
   "metadata": {},
   "outputs": [],
   "source": [
    "clf, _ = trainLogisticRegression(X_train, X_test, y_train, y_test) #no taking into account the class imbalance"
   ]
  },
  {
   "cell_type": "code",
   "execution_count": 56,
   "metadata": {},
   "outputs": [],
   "source": [
    "clf2, _ = trainLogisticRegression(X2_train, X2_test, y_train, y_test) #no taking into account the class imbalance"
   ]
  },
  {
   "cell_type": "code",
   "execution_count": 59,
   "metadata": {},
   "outputs": [],
   "source": [
    "y_pred = clf.predict(X_test)"
   ]
  },
  {
   "cell_type": "code",
   "execution_count": 60,
   "metadata": {},
   "outputs": [],
   "source": [
    "y2_pred = clf2.predict(X2_test)"
   ]
  },
  {
   "cell_type": "markdown",
   "metadata": {},
   "source": [
    "A macro-average will compute the metric independently for each class and then take the average (hence treating all classes equally), whereas a micro-average will aggregate the contributions of all classes to compute the average metric."
   ]
  },
  {
   "cell_type": "code",
   "execution_count": 71,
   "metadata": {
    "scrolled": true
   },
   "outputs": [
    {
     "name": "stdout",
     "output_type": "stream",
     "text": [
      "Accuracy score:0.86\n",
      "Confusion Matrix:\n",
      "[[520  23   7  16  11   4]\n",
      " [ 11 630  30   9   4  11]\n",
      " [  7  37 108   2   3   2]\n",
      " [ 22  10   2 231   9   1]\n",
      " [ 16   4   0  12 183   9]\n",
      " [  2   5   0   0  11  48]]\n",
      "Area Under Curve:{0: 0.9270673755123181, 1: 0.922969210838226, 2: 0.8290305719820031, 3: 0.9086956521739129, 4: 0.8977839446589447, 5: 0.8566560120334681}\n",
      "Precision score:0.8077555282299942\n",
      "Recall score:0.8108276203336242\n",
      "F1 score:0.8086121544586198\n"
     ]
    }
   ],
   "source": [
    "#using BoW\n",
    "average = 'macro'\n",
    "print(f'Accuracy score:{accuracy_score(y_test,y_pred)}') \n",
    "print(f'Confusion Matrix:\\n{confusion_matrix(y_test,y_pred)}') \n",
    "print(f'Area Under Curve:{roc_auc_score_multiclass(y_test,y_pred)}') \n",
    "print(f'Precision score:{precision_score(y_test,y_pred,average=average)}') \n",
    "print(f'Recall score:{recall_score(y_test,y_pred,average=average)}') \n",
    "print(f'F1 score:{f1_score(y_test,y_pred,average=average)}') "
   ]
  },
  {
   "cell_type": "code",
   "execution_count": 72,
   "metadata": {},
   "outputs": [
    {
     "name": "stdout",
     "output_type": "stream",
     "text": [
      "Accuracy score:0.842\n",
      "Confusion Matrix:\n",
      "[[524  30   2  17   7   1]\n",
      " [ 11 648  23   7   2   4]\n",
      " [ 15  54  84   3   2   1]\n",
      " [ 27  22   1 219   6   0]\n",
      " [ 24  13   0  11 175   1]\n",
      " [  3  16   0   1  12  34]]\n",
      "Area Under Curve:{0: 0.9227577783195604, 1: 0.9144629124286778, 2: 0.7570895637112725, 3: 0.8868774703557312, 4: 0.8824605855855856, 5: 0.7557660367898217}\n",
      "Precision score:0.8324534797745402\n",
      "Recall score:0.7425557377437476\n",
      "F1 score:0.776803125731786\n"
     ]
    }
   ],
   "source": [
    "#using TfIdF\n",
    "print(f'Accuracy score:{accuracy_score(y_test,y2_pred)}') \n",
    "print(f'Confusion Matrix:\\n{confusion_matrix(y_test,y2_pred)}') \n",
    "print(f'Area Under Curve:{roc_auc_score_multiclass(y_test,y2_pred)}')\n",
    "print(f'Precision score:{precision_score(y_test,y2_pred,average=average)}') \n",
    "print(f'Recall score:{recall_score(y_test,y2_pred,average=average)}') \n",
    "print(f'F1 score:{f1_score(y_test,y2_pred,average=average)}')"
   ]
  },
  {
   "cell_type": "code",
   "execution_count": 63,
   "metadata": {},
   "outputs": [],
   "source": [
    "w={0:4, 1:8, 2:12, 3:13, 4:29, 5:34} #weights as inverse of label distribution for class imbalance "
   ]
  },
  {
   "cell_type": "code",
   "execution_count": 64,
   "metadata": {},
   "outputs": [],
   "source": [
    "clf3, _ = trainLogisticRegression_weighted(X_train, X_test, y_train, y_test, w) #taking into account the class imbalance"
   ]
  },
  {
   "cell_type": "code",
   "execution_count": 67,
   "metadata": {},
   "outputs": [],
   "source": [
    "clf4, _ = trainLogisticRegression_weighted(X2_train, X2_test, y_train, y_test, w) #taking into account the class imbalance"
   ]
  },
  {
   "cell_type": "code",
   "execution_count": 76,
   "metadata": {},
   "outputs": [],
   "source": [
    "y3_pred = clf3.predict(X_test)"
   ]
  },
  {
   "cell_type": "code",
   "execution_count": 77,
   "metadata": {},
   "outputs": [],
   "source": [
    "y4_pred = clf4.predict(X2_test)"
   ]
  },
  {
   "cell_type": "code",
   "execution_count": 84,
   "metadata": {},
   "outputs": [
    {
     "name": "stdout",
     "output_type": "stream",
     "text": [
      "Accuracy score:0.8425\n",
      "Confusion Matrix:\n",
      "[[491  33  10  26  16   5]\n",
      " [  7 611  45  10   9  13]\n",
      " [  5  31 113   5   3   2]\n",
      " [ 14   9   2 234  15   1]\n",
      " [  9   4   0  12 186  13]\n",
      " [  1   5   0   1   9  50]]\n",
      "Area Under Curve:{0: 0.909862342756711, 1: 0.9081507208026682, 2: 0.839865194948056, 3: 0.9098023715415021, 4: 0.9005389317889317, 5: 0.8699978063990473}\n",
      "Precision score:0.8425\n",
      "Recall score:0.8425\n",
      "F1 score:0.8425\n"
     ]
    }
   ],
   "source": [
    "#using BoW\n",
    "average = 'micro' \n",
    "print(f'Accuracy score:{accuracy_score(y_test,y3_pred)}') \n",
    "print(f'Confusion Matrix:\\n{confusion_matrix(y_test,y3_pred)}') \n",
    "print(f'Area Under Curve:{roc_auc_score_multiclass(y_test,y3_pred)}') \n",
    "print(f'Precision score:{precision_score(y_test,y3_pred,average=average)}') \n",
    "print(f'Recall score:{recall_score(y_test,y3_pred,average=average)}') \n",
    "print(f'F1 score:{f1_score(y_test,y3_pred,average=average)}') "
   ]
  },
  {
   "cell_type": "code",
   "execution_count": 92,
   "metadata": {},
   "outputs": [
    {
     "name": "stdout",
     "output_type": "stream",
     "text": [
      "Accuracy score:0.8475\n",
      "Confusion Matrix:\n",
      "[[482  36   7  25  25   6]\n",
      " [  4 625  37  12   7  10]\n",
      " [  2  36 109   7   3   2]\n",
      " [ 13  12   2 236  11   1]\n",
      " [  6   3   0   9 196  10]\n",
      " [  1   5   0   1  12  47]]\n",
      "Area Under Curve:{0: 0.9056406841500706, 1: 0.9143912456241903, 2: 0.8302740853856428, 3: 0.9134387351778657, 4: 0.9211711711711713, 5: 0.8485631913760145}\n",
      "Precision score:0.8475\n",
      "Recall score:0.8475\n",
      "F1 score:0.8475\n"
     ]
    }
   ],
   "source": [
    "#using TfIdF\n",
    "print(f'Accuracy score:{accuracy_score(y_test,y4_pred)}') \n",
    "print(f'Confusion Matrix:\\n{confusion_matrix(y_test,y4_pred)}')\n",
    "print(f'Area Under Curve:{roc_auc_score_multiclass(y_test,y4_pred)}') \n",
    "print(f'Precision score:{precision_score(y_test,y4_pred,average=average)}') \n",
    "print(f'Recall score:{recall_score(y_test,y4_pred,average=average)}') \n",
    "print(f'F1 score:{f1_score(y_test,y4_pred,average=average)}')"
   ]
  },
  {
   "cell_type": "code",
   "execution_count": 106,
   "metadata": {},
   "outputs": [
    {
     "data": {
      "text/plain": [
       "{0: 0.5715102157451064,\n",
       " 1: 0.49732686808404825,\n",
       " 2: 2.044989775051125,\n",
       " 3: 1.2351397251814111,\n",
       " 4: 1.3766993632765445,\n",
       " 5: 4.662004662004662}"
      ]
     },
     "execution_count": 106,
     "metadata": {},
     "output_type": "execute_result"
    }
   ],
   "source": [
    "w=compute_class_weight(class_weight = \"balanced\",classes = np.unique([0,1,2,3,4,5]),y = y_train)\n",
    "class_weights = dict(enumerate(w.flatten(), 0))\n",
    "class_weights"
   ]
  },
  {
   "cell_type": "code",
   "execution_count": 107,
   "metadata": {},
   "outputs": [],
   "source": [
    "clf5, _ = trainLogisticRegression_weighted(X_train, X_test, y_train, y_test, class_weights) #taking into account the class imbalance using another method"
   ]
  },
  {
   "cell_type": "code",
   "execution_count": 108,
   "metadata": {},
   "outputs": [],
   "source": [
    "clf6, _ = trainLogisticRegression_weighted(X2_train, X2_test, y_train, y_test, class_weights) #taking into account the class imbalance using another method"
   ]
  },
  {
   "cell_type": "code",
   "execution_count": 109,
   "metadata": {},
   "outputs": [],
   "source": [
    "y5_pred = clf5.predict(X_test)"
   ]
  },
  {
   "cell_type": "code",
   "execution_count": 110,
   "metadata": {},
   "outputs": [],
   "source": [
    "y6_pred = clf6.predict(X2_test)"
   ]
  },
  {
   "cell_type": "code",
   "execution_count": 111,
   "metadata": {},
   "outputs": [
    {
     "name": "stdout",
     "output_type": "stream",
     "text": [
      "Accuracy score:0.8525\n",
      "Confusion Matrix:\n",
      "[[505  17  12  24  17   6]\n",
      " [ 10 598  56  10   7  14]\n",
      " [  5  20 126   3   3   2]\n",
      " [ 18   6   4 237   9   1]\n",
      " [ 10   1   1  10 182  20]\n",
      " [  1   3   0   0   5  57]]\n",
      "Area Under Curve:{0: 0.9190916489879785, 1: 0.9122081645028806, 2: 0.8764002336712001, 3: 0.9172859025032938, 4: 0.8947072072072072, 5: 0.9207013255617186}\n",
      "Precision score:0.8525\n",
      "Recall score:0.8525\n",
      "F1 score:0.8525\n"
     ]
    }
   ],
   "source": [
    "#using BoW\n",
    "average = 'micro' \n",
    "print(f'Accuracy score:{accuracy_score(y_test,y5_pred)}') \n",
    "print(f'Confusion Matrix:\\n{confusion_matrix(y_test,y5_pred)}') \n",
    "print(f'Area Under Curve:{roc_auc_score_multiclass(y_test,y5_pred)}') \n",
    "print(f'Precision score:{precision_score(y_test,y5_pred,average=average)}') \n",
    "print(f'Recall score:{recall_score(y_test,y5_pred,average=average)}') \n",
    "print(f'F1 score:{f1_score(y_test,y5_pred,average=average)}') "
   ]
  },
  {
   "cell_type": "code",
   "execution_count": 112,
   "metadata": {},
   "outputs": [
    {
     "name": "stdout",
     "output_type": "stream",
     "text": [
      "Accuracy score:0.844\n",
      "Confusion Matrix:\n",
      "[[492  20  14  25  21   9]\n",
      " [ 11 583  66  12   6  17]\n",
      " [  5  14 133   3   2   2]\n",
      " [ 13   9   5 237  10   1]\n",
      " [  8   2   1  11 185  17]\n",
      " [  2   3   0   0   3  58]]\n",
      "Area Under Curve:{0: 0.9096658455022142, 1: 0.9010336558339535, 2: 0.8948821224450754, 3: 0.9161264822134387, 4: 0.9011221042471043, 5: 0.9275014885149322}\n",
      "Precision score:0.844\n",
      "Recall score:0.844\n",
      "F1 score:0.844\n"
     ]
    }
   ],
   "source": [
    "#using TfIdF\n",
    "print(f'Accuracy score:{accuracy_score(y_test,y6_pred)}') \n",
    "print(f'Confusion Matrix:\\n{confusion_matrix(y_test,y6_pred)}')\n",
    "print(f'Area Under Curve:{roc_auc_score_multiclass(y_test,y6_pred)}') \n",
    "print(f'Precision score:{precision_score(y_test,y6_pred,average=average)}') \n",
    "print(f'Recall score:{recall_score(y_test,y6_pred,average=average)}') \n",
    "print(f'F1 score:{f1_score(y_test,y6_pred,average=average)}')"
   ]
  },
  {
   "cell_type": "code",
   "execution_count": 37,
   "metadata": {},
   "outputs": [
    {
     "data": {
      "text/html": [
       "<div>\n",
       "<style scoped>\n",
       "    .dataframe tbody tr th:only-of-type {\n",
       "        vertical-align: middle;\n",
       "    }\n",
       "\n",
       "    .dataframe tbody tr th {\n",
       "        vertical-align: top;\n",
       "    }\n",
       "\n",
       "    .dataframe thead th {\n",
       "        text-align: right;\n",
       "    }\n",
       "</style>\n",
       "<table border=\"1\" class=\"dataframe\">\n",
       "  <thead>\n",
       "    <tr style=\"text-align: right;\">\n",
       "      <th></th>\n",
       "      <th>0</th>\n",
       "      <th>1</th>\n",
       "    </tr>\n",
       "  </thead>\n",
       "  <tbody>\n",
       "    <tr>\n",
       "      <th>0</th>\n",
       "      <td>1240727808080412673</td>\n",
       "      <td>0.357143</td>\n",
       "    </tr>\n",
       "    <tr>\n",
       "      <th>1</th>\n",
       "      <td>1240727808005079041</td>\n",
       "      <td>0.116071</td>\n",
       "    </tr>\n",
       "    <tr>\n",
       "      <th>2</th>\n",
       "      <td>1240727808340414464</td>\n",
       "      <td>-0.050000</td>\n",
       "    </tr>\n",
       "    <tr>\n",
       "      <th>3</th>\n",
       "      <td>1240727808629813248</td>\n",
       "      <td>-0.714286</td>\n",
       "    </tr>\n",
       "    <tr>\n",
       "      <th>4</th>\n",
       "      <td>1240727808617230336</td>\n",
       "      <td>0.700000</td>\n",
       "    </tr>\n",
       "    <tr>\n",
       "      <th>...</th>\n",
       "      <td>...</td>\n",
       "      <td>...</td>\n",
       "    </tr>\n",
       "    <tr>\n",
       "      <th>831322</th>\n",
       "      <td>1240861453524930562</td>\n",
       "      <td>0.000000</td>\n",
       "    </tr>\n",
       "    <tr>\n",
       "      <th>831323</th>\n",
       "      <td>1240861453554315265</td>\n",
       "      <td>0.140693</td>\n",
       "    </tr>\n",
       "    <tr>\n",
       "      <th>831324</th>\n",
       "      <td>1240861453503959043</td>\n",
       "      <td>0.000000</td>\n",
       "    </tr>\n",
       "    <tr>\n",
       "      <th>831325</th>\n",
       "      <td>1240861453311070209</td>\n",
       "      <td>0.000000</td>\n",
       "    </tr>\n",
       "    <tr>\n",
       "      <th>831326</th>\n",
       "      <td>1240861453680128000</td>\n",
       "      <td>0.000000</td>\n",
       "    </tr>\n",
       "  </tbody>\n",
       "</table>\n",
       "<p>831327 rows × 2 columns</p>\n",
       "</div>"
      ],
      "text/plain": [
       "                          0         1\n",
       "0       1240727808080412673  0.357143\n",
       "1       1240727808005079041  0.116071\n",
       "2       1240727808340414464 -0.050000\n",
       "3       1240727808629813248 -0.714286\n",
       "4       1240727808617230336  0.700000\n",
       "...                     ...       ...\n",
       "831322  1240861453524930562  0.000000\n",
       "831323  1240861453554315265  0.140693\n",
       "831324  1240861453503959043  0.000000\n",
       "831325  1240861453311070209  0.000000\n",
       "831326  1240861453680128000  0.000000\n",
       "\n",
       "[831327 rows x 2 columns]"
      ]
     },
     "execution_count": 37,
     "metadata": {},
     "output_type": "execute_result"
    }
   ],
   "source": [
    "df = pd.read_csv('data/corona_tweets/corona_tweets_01.csv', header=None)\n",
    "df"
   ]
  },
  {
   "cell_type": "code",
   "execution_count": 43,
   "metadata": {},
   "outputs": [
    {
     "data": {
      "text/html": [
       "<div>\n",
       "<style scoped>\n",
       "    .dataframe tbody tr th:only-of-type {\n",
       "        vertical-align: middle;\n",
       "    }\n",
       "\n",
       "    .dataframe tbody tr th {\n",
       "        vertical-align: top;\n",
       "    }\n",
       "\n",
       "    .dataframe thead th {\n",
       "        text-align: right;\n",
       "    }\n",
       "</style>\n",
       "<table border=\"1\" class=\"dataframe\">\n",
       "  <thead>\n",
       "    <tr style=\"text-align: right;\">\n",
       "      <th></th>\n",
       "      <th>text</th>\n",
       "      <th>author</th>\n",
       "      <th>timestamp</th>\n",
       "    </tr>\n",
       "  </thead>\n",
       "  <tbody>\n",
       "    <tr>\n",
       "      <th>0</th>\n",
       "      <td>longer defend make excuse reasoning want inten...</td>\n",
       "      <td>trying use wits good evil people united change...</td>\n",
       "      <td>2020-03-19T19:52:15.000Z</td>\n",
       "    </tr>\n",
       "    <tr>\n",
       "      <th>1</th>\n",
       "      <td>everyone looks sick</td>\n",
       "      <td>starchild go wild ig remingtonxx</td>\n",
       "      <td>2020-03-19T19:52:15.000Z</td>\n",
       "    </tr>\n",
       "    <tr>\n",
       "      <th>2</th>\n",
       "      <td>good came china</td>\n",
       "      <td></td>\n",
       "      <td>2020-03-19T19:52:15.000Z</td>\n",
       "    </tr>\n",
       "    <tr>\n",
       "      <th>3</th>\n",
       "      <td>corona day feels like sunday ...</td>\n",
       "      <td></td>\n",
       "      <td>2020-03-19T19:52:15.000Z</td>\n",
       "    </tr>\n",
       "    <tr>\n",
       "      <th>4</th>\n",
       "      <td>close president notes seen crossed corona repl...</td>\n",
       "      <td></td>\n",
       "      <td>2020-03-19T19:52:15.000Z</td>\n",
       "    </tr>\n",
       "    <tr>\n",
       "      <th>...</th>\n",
       "      <td>...</td>\n",
       "      <td>...</td>\n",
       "      <td>...</td>\n",
       "    </tr>\n",
       "    <tr>\n",
       "      <th>56</th>\n",
       "      <td>asked dc cop noticed since coronavirus sent pe...</td>\n",
       "      <td>ut-business marketing mastersmgmt aquinas prou...</td>\n",
       "      <td>2020-03-19T19:52:18.000Z</td>\n",
       "    </tr>\n",
       "    <tr>\n",
       "      <th>57</th>\n",
       "      <td>lot would actually benefit taking good look in...</td>\n",
       "      <td></td>\n",
       "      <td>2020-03-19T19:52:18.000Z</td>\n",
       "    </tr>\n",
       "    <tr>\n",
       "      <th>58</th>\n",
       "      <td>close president notes seen crossed corona repl...</td>\n",
       "      <td>i'm great believer luck find harder work thoma...</td>\n",
       "      <td>2020-03-19T19:52:18.000Z</td>\n",
       "    </tr>\n",
       "    <tr>\n",
       "      <th>59</th>\n",
       "      <td>among things shows they're using term coronavi...</td>\n",
       "      <td>pro market pro immigrant pro gmo anti supersti...</td>\n",
       "      <td>2020-03-19T19:52:18.000Z</td>\n",
       "    </tr>\n",
       "    <tr>\n",
       "      <th>60</th>\n",
       "      <td>generation z want name folks love calling ever...</td>\n",
       "      <td>batman moron i'm animation clips</td>\n",
       "      <td>2020-03-19T19:52:18.000Z</td>\n",
       "    </tr>\n",
       "  </tbody>\n",
       "</table>\n",
       "<p>61 rows × 3 columns</p>\n",
       "</div>"
      ],
      "text/plain": [
       "                                                 text  \\\n",
       "0   longer defend make excuse reasoning want inten...   \n",
       "1                                 everyone looks sick   \n",
       "2                                     good came china   \n",
       "3                    corona day feels like sunday ...   \n",
       "4   close president notes seen crossed corona repl...   \n",
       "..                                                ...   \n",
       "56  asked dc cop noticed since coronavirus sent pe...   \n",
       "57  lot would actually benefit taking good look in...   \n",
       "58  close president notes seen crossed corona repl...   \n",
       "59  among things shows they're using term coronavi...   \n",
       "60  generation z want name folks love calling ever...   \n",
       "\n",
       "                                               author  \\\n",
       "0   trying use wits good evil people united change...   \n",
       "1                    starchild go wild ig remingtonxx   \n",
       "2                                                       \n",
       "3                                                       \n",
       "4                                                       \n",
       "..                                                ...   \n",
       "56  ut-business marketing mastersmgmt aquinas prou...   \n",
       "57                                                      \n",
       "58  i'm great believer luck find harder work thoma...   \n",
       "59  pro market pro immigrant pro gmo anti supersti...   \n",
       "60                   batman moron i'm animation clips   \n",
       "\n",
       "                   timestamp  \n",
       "0   2020-03-19T19:52:15.000Z  \n",
       "1   2020-03-19T19:52:15.000Z  \n",
       "2   2020-03-19T19:52:15.000Z  \n",
       "3   2020-03-19T19:52:15.000Z  \n",
       "4   2020-03-19T19:52:15.000Z  \n",
       "..                       ...  \n",
       "56  2020-03-19T19:52:18.000Z  \n",
       "57  2020-03-19T19:52:18.000Z  \n",
       "58  2020-03-19T19:52:18.000Z  \n",
       "59  2020-03-19T19:52:18.000Z  \n",
       "60  2020-03-19T19:52:18.000Z  \n",
       "\n",
       "[61 rows x 3 columns]"
      ]
     },
     "execution_count": 43,
     "metadata": {},
     "output_type": "execute_result"
    }
   ],
   "source": [
    "tweet_fields=['created_at'],\n",
    "user_fields=['description']\n",
    "\n",
    "text_data, author_data, timestamp_data = hydrateTweets(df, tweet_fields, user_fields)\n",
    "d = {'text': text_data, 'author': author_data, 'timestamp': timestamp_data}\n",
    "tweet_data = pd.DataFrame(data=d)\n",
    "tweet_data"
   ]
  },
  {
   "cell_type": "code",
   "execution_count": 39,
   "metadata": {},
   "outputs": [
    {
     "data": {
      "text/plain": [
       "(array([[0, 0, 0, ..., 0, 0, 0],\n",
       "        [0, 0, 0, ..., 0, 0, 0],\n",
       "        [0, 0, 0, ..., 0, 0, 0],\n",
       "        ...,\n",
       "        [0, 0, 0, ..., 0, 0, 0],\n",
       "        [0, 0, 0, ..., 0, 0, 0],\n",
       "        [0, 0, 0, ..., 0, 1, 0]]),\n",
       " array([ 0.35714286,  0.11607143, -0.05      , ...,  0.        ,\n",
       "         0.        ,  0.        ]))"
      ]
     },
     "execution_count": 39,
     "metadata": {},
     "output_type": "execute_result"
    }
   ],
   "source": [
    "X, y = createBoWFeatureVecTweets(tweet_data['text'].tolist(), df[1].values, vectorizer)\n",
    "X, y"
   ]
  },
  {
   "cell_type": "code",
   "execution_count": 40,
   "metadata": {},
   "outputs": [
    {
     "data": {
      "text/plain": [
       "(array([[0.        , 0.        , 0.        , ..., 0.        , 0.        ,\n",
       "         0.        ],\n",
       "        [0.        , 0.        , 0.        , ..., 0.        , 0.        ,\n",
       "         0.        ],\n",
       "        [0.        , 0.        , 0.        , ..., 0.        , 0.        ,\n",
       "         0.        ],\n",
       "        ...,\n",
       "        [0.        , 0.        , 0.        , ..., 0.        , 0.        ,\n",
       "         0.        ],\n",
       "        [0.        , 0.        , 0.        , ..., 0.        , 0.        ,\n",
       "         0.        ],\n",
       "        [0.        , 0.        , 0.        , ..., 0.        , 0.19842294,\n",
       "         0.        ]]),\n",
       " array([ 0.35714286,  0.11607143, -0.05      , ...,  0.        ,\n",
       "         0.        ,  0.        ]))"
      ]
     },
     "execution_count": 40,
     "metadata": {},
     "output_type": "execute_result"
    }
   ],
   "source": [
    "X, y = createTfIdfFeatureVecTweets(tweet_data['text'].tolist(), df[1].values, vectorizer2)\n",
    "X, y"
   ]
  }
 ],
 "metadata": {
  "interpreter": {
   "hash": "aee8b7b246df8f9039afb4144a1f6fd8d2ca17a180786b69acc140d282b71a49"
  },
  "kernelspec": {
   "display_name": "Python 3",
   "language": "python",
   "name": "python3"
  },
  "language_info": {
   "codemirror_mode": {
    "name": "ipython",
    "version": 3
   },
   "file_extension": ".py",
   "mimetype": "text/x-python",
   "name": "python",
   "nbconvert_exporter": "python",
   "pygments_lexer": "ipython3",
   "version": "3.7.6"
  }
 },
 "nbformat": 4,
 "nbformat_minor": 2
}
