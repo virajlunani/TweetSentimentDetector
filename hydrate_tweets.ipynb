{
 "cells": [
  {
   "cell_type": "code",
   "execution_count": 1,
   "metadata": {},
   "outputs": [],
   "source": [
    "%load_ext autoreload\n",
    "%autoreload 2"
   ]
  },
  {
   "cell_type": "code",
   "execution_count": 2,
   "metadata": {},
   "outputs": [
    {
     "name": "stderr",
     "output_type": "stream",
     "text": [
      "[nltk_data] Downloading package stopwords to\n",
      "[nltk_data]     /home/dorayguo/nltk_data...\n",
      "[nltk_data]   Package stopwords is already up-to-date!\n"
     ]
    }
   ],
   "source": [
    "import pandas as pd\n",
    "from hydrate_tweets import *"
   ]
  },
  {
   "cell_type": "code",
   "execution_count": 3,
   "metadata": {},
   "outputs": [
    {
     "data": {
      "text/html": [
       "<div>\n",
       "<style scoped>\n",
       "    .dataframe tbody tr th:only-of-type {\n",
       "        vertical-align: middle;\n",
       "    }\n",
       "\n",
       "    .dataframe tbody tr th {\n",
       "        vertical-align: top;\n",
       "    }\n",
       "\n",
       "    .dataframe thead th {\n",
       "        text-align: right;\n",
       "    }\n",
       "</style>\n",
       "<table border=\"1\" class=\"dataframe\">\n",
       "  <thead>\n",
       "    <tr style=\"text-align: right;\">\n",
       "      <th></th>\n",
       "      <th>0</th>\n",
       "      <th>1</th>\n",
       "    </tr>\n",
       "  </thead>\n",
       "  <tbody>\n",
       "    <tr>\n",
       "      <th>0</th>\n",
       "      <td>1240727808080412673</td>\n",
       "      <td>0.357143</td>\n",
       "    </tr>\n",
       "    <tr>\n",
       "      <th>1</th>\n",
       "      <td>1240727808005079041</td>\n",
       "      <td>0.116071</td>\n",
       "    </tr>\n",
       "    <tr>\n",
       "      <th>2</th>\n",
       "      <td>1240727808340414464</td>\n",
       "      <td>-0.050000</td>\n",
       "    </tr>\n",
       "    <tr>\n",
       "      <th>3</th>\n",
       "      <td>1240727808629813248</td>\n",
       "      <td>-0.714286</td>\n",
       "    </tr>\n",
       "    <tr>\n",
       "      <th>4</th>\n",
       "      <td>1240727808617230336</td>\n",
       "      <td>0.700000</td>\n",
       "    </tr>\n",
       "    <tr>\n",
       "      <th>...</th>\n",
       "      <td>...</td>\n",
       "      <td>...</td>\n",
       "    </tr>\n",
       "    <tr>\n",
       "      <th>831322</th>\n",
       "      <td>1240861453524930562</td>\n",
       "      <td>0.000000</td>\n",
       "    </tr>\n",
       "    <tr>\n",
       "      <th>831323</th>\n",
       "      <td>1240861453554315265</td>\n",
       "      <td>0.140693</td>\n",
       "    </tr>\n",
       "    <tr>\n",
       "      <th>831324</th>\n",
       "      <td>1240861453503959043</td>\n",
       "      <td>0.000000</td>\n",
       "    </tr>\n",
       "    <tr>\n",
       "      <th>831325</th>\n",
       "      <td>1240861453311070209</td>\n",
       "      <td>0.000000</td>\n",
       "    </tr>\n",
       "    <tr>\n",
       "      <th>831326</th>\n",
       "      <td>1240861453680128000</td>\n",
       "      <td>0.000000</td>\n",
       "    </tr>\n",
       "  </tbody>\n",
       "</table>\n",
       "<p>831327 rows × 2 columns</p>\n",
       "</div>"
      ],
      "text/plain": [
       "                          0         1\n",
       "0       1240727808080412673  0.357143\n",
       "1       1240727808005079041  0.116071\n",
       "2       1240727808340414464 -0.050000\n",
       "3       1240727808629813248 -0.714286\n",
       "4       1240727808617230336  0.700000\n",
       "...                     ...       ...\n",
       "831322  1240861453524930562  0.000000\n",
       "831323  1240861453554315265  0.140693\n",
       "831324  1240861453503959043  0.000000\n",
       "831325  1240861453311070209  0.000000\n",
       "831326  1240861453680128000  0.000000\n",
       "\n",
       "[831327 rows x 2 columns]"
      ]
     },
     "execution_count": 3,
     "metadata": {},
     "output_type": "execute_result"
    }
   ],
   "source": [
    "df = pd.read_csv('data/corona_tweets/corona_tweets_01.csv', header=None)\n",
    "df"
   ]
  },
  {
   "cell_type": "code",
   "execution_count": 4,
   "metadata": {},
   "outputs": [
    {
     "data": {
      "text/plain": [
       "['longer defend make excuse reasoning want intentional racist',\n",
       " 'everyone looks sick',\n",
       " 'good came china',\n",
       " 'corona day feels like sunday ...',\n",
       " 'close president notes seen crossed corona replaced chinese virus speaks coronavirus task force today white house',\n",
       " 'pretty much corona virus germ wants entered body passed hours bodied shots henny',\n",
       " 'china irresponsible criminal behavior wake covid leave weakest global position memory u emerge stronger china must held fully accountable harm unleashed planet',\n",
       " 'pls rt dear news press conferences around country corona virus emergency sign language interpreters standing next speakers providing access millions deaf americans please',\n",
       " \"lets start resource thread loans grants small businesses affected corona we'll start please share disaster loan assistance sba sign loan help get times\",\n",
       " 'nasty flu went round december early jan telling corona bare ppl sick including complaining know symptoms corona',\n",
       " 'corona day feels like sunday ...',\n",
       " 'corona dangerous come post offic',\n",
       " 'jamila think measures put place government prevent us getting point start community transmissions',\n",
       " 'yes hell jack donated 500,000 testing kits million masks',\n",
       " \"among things shows they're using term coronavirus internally like everyone else throwing publicly would rather argument political correctness discuss response\",\n",
       " \"they're trying spur culture war distract incompetence notice firing professionals protect us terrorist threats disbanding offices prepare pandemics making decisions benefit businesses\",\n",
       " 'dick bigger corona virus dick bigger corona virus dick bigger corona virus dick bigger corona virus dick bigger corona virus dick bigger corona virus see dumb sound',\n",
       " 'funeral hear messi dropped 6.2 rating sofascore',\n",
       " 'everyone looks sick',\n",
       " 'weeks fucking global pandemic hamstring strain',\n",
       " 'proof intentional tactic trump et al trying bait us fighting racism instead incompetence followers either see mind racism ineptitude deeply troubling',\n",
       " 'generation z want name folks love calling everybody millennials millennials spring break millennials home yelling boomer parents sit still faith fear',\n",
       " 'cldn wind day without visiting check health progress covid pts glad see support teams give challenging situation hats dedication support medical fraternity.we shall overcome cvb',\n",
       " 'vain eschew wearing glasses obviously needs font big glaring photographic evidence racism',\n",
       " 'holy shit fake news',\n",
       " 'man save us corona virus',\n",
       " 'admiring dealing customers since whole corona virus started however today got phone call travel agent booked holiday saying offer us voucher get refund',\n",
       " 'disgusting let clutch pearls bc riff ppl actively killing americans',\n",
       " 'photo briefing papers today shows corona crossed chinese written sharpie handwriting describe virus description said today racist',\n",
       " 'weeks fucking global pandemic hamstring strain',\n",
       " 'year old stepmom admitted memorial hospital belleville illinois last night fever coughing said test corona virus traveled talked day prior nothing hell wrong age',\n",
       " 'kicked usg students returned cities open corona cases sav cases usg wants everyone return sav get stuff risking bringing corona city school :thinking_face: still letting usg make decisions',\n",
       " 'holy shit hate every person video',\n",
       " 'must bring taiwan fully date taiwan around cases despite proximity china global response china must stop playing geopolitics global health thoughts',\n",
       " 'get corona get corona said one ohio student spring break florida end day gonna let stop partying via',\n",
       " 'kano state emergency contacts case suspected corona virus outbreak dr imam wada bello dr bashir lawan muhammad sulaiman ilyasu coordinator kano dr sharif yahaya musa rt awareness',\n",
       " 'longer defend make excuse reasoning want intentional racist',\n",
       " 'generation z want name folks love calling everybody millennials millennials spring break millennials home yelling boomer parents sit still faith fear',\n",
       " 'generation z want name folks love calling everybody millennials millennials spring break millennials home yelling boomer parents sit still faith fear',\n",
       " 'repugnant',\n",
       " 'everyone coming corona barista',\n",
       " 'nasty flu went round december early jan telling corona bare ppl sick including complaining know symptoms corona',\n",
       " 'year old pasadena first person die corona visiting florida shame disneyland closing sooner smh known something like would happen recent measles outbreak happened anaheim recently',\n",
       " 'niggas walking club corona epidemic end',\n",
       " 'everything fine world liverpool decided take premier league title :weary_face: :broken_heart: :face_with_tears_of_joy: kobe died :weary_face: world war corona virus :weary_face: :loudly_crying_face: :broken_heart:',\n",
       " 'smoke break unless got corona stay backkkkk',\n",
       " 'sweet potatoes beans porridge garri dinner served :man_cook:',\n",
       " 'quarantine kicked depression couple notches thanks work routine void im effectively avoiding phone bc everyone nuts sending corona stuff dont blame christ anxiety driving wal',\n",
       " 'deleted scene twd special corona virus',\n",
       " 'man piss could stop corona',\n",
       " 'nasty flu went round december early jan telling corona bare ppl sick including complaining know symptoms corona',\n",
       " 'close president notes seen crossed corona replaced chinese virus speaks coronavirus task force today white house',\n",
       " 'generation z want name folks love calling everybody millennials millennials spring break millennials home yelling boomer parents sit still faith fear',\n",
       " 'nasty flu went round december early jan telling corona bare ppl sick including complaining know symptoms corona',\n",
       " \"among things shows they're using term coronavirus internally like everyone else throwing publicly would rather argument political correctness discuss response\",\n",
       " 'asked dc cop noticed since coronavirus sent people home domestic violence said without missing beat',\n",
       " 'lot would actually benefit taking good look introspectively issues women gross',\n",
       " 'close president notes seen crossed corona replaced chinese virus speaks coronavirus task force today white house',\n",
       " \"among things shows they're using term coronavirus internally like everyone else throwing publicly would rather argument political correctness discuss response\",\n",
       " 'generation z want name folks love calling everybody millennials millennials spring break millennials home yelling boomer parents sit still faith fear']"
      ]
     },
     "execution_count": 4,
     "metadata": {},
     "output_type": "execute_result"
    }
   ],
   "source": [
    "tweet_fields=['text'],\n",
    "\n",
    "tweet_data = hydrateTweets(df, tweet_fields)\n",
    "tweet_data"
   ]
  },
  {
   "cell_type": "markdown",
   "metadata": {},
   "source": []
  },
  {
   "cell_type": "code",
   "execution_count": 5,
   "metadata": {},
   "outputs": [
    {
     "data": {
      "text/plain": [
       "(array([[0, 0, 0, ..., 0, 0, 0],\n",
       "        [0, 0, 0, ..., 0, 0, 0],\n",
       "        [0, 0, 0, ..., 0, 0, 0],\n",
       "        ...,\n",
       "        [0, 0, 0, ..., 0, 0, 0],\n",
       "        [0, 0, 0, ..., 0, 0, 0],\n",
       "        [0, 0, 0, ..., 0, 1, 0]]),\n",
       " array([ 0.35714286,  0.11607143, -0.05      , ...,  0.        ,\n",
       "         0.        ,  0.        ]))"
      ]
     },
     "execution_count": 5,
     "metadata": {},
     "output_type": "execute_result"
    }
   ],
   "source": [
    "X, y, vectorizer = createBoWFeatureVecTweets(tweet_data, df[1].values)\n",
    "X, y"
   ]
  },
  {
   "cell_type": "code",
   "execution_count": null,
   "metadata": {},
   "outputs": [],
   "source": [
    "X, y, vectorizer = createTfIdfFeatureVecTweets(tweet_data, df[1].values)\n",
    "X, y"
   ]
  }
 ],
 "metadata": {
  "kernelspec": {
   "display_name": "Python 3 (ipykernel)",
   "language": "python",
   "name": "python3"
  },
  "language_info": {
   "name": "python"
  }
 },
 "nbformat": 4,
 "nbformat_minor": 2
}
